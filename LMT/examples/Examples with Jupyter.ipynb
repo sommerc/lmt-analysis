{
 "cells": [
  {
   "cell_type": "markdown",
   "metadata": {},
   "source": [
    "# Using the lmt-analysis library with Jupyter\n",
    "\n",
    "We show here some basic examples of Live Mouse Tracker analysis.\n",
    "\n",
    "Video demo and available databases: https://livemousetracker.org/\n",
    "Paper : https://www.biorxiv.org/content/10.1101/345132v2\n",
    "mail: chaumont@pasteur.fr, elodie.ey@pasteur.fr\n",
    "Twitter : @fabdechaumont\n",
    "Another tutorial of the this lib (slide presentation): https://docs.google.com/presentation/d/1wR7JM2vq5ZjugrwDe4YuuKJm0MWIvkHAvrOH7mQNOEk/edit?usp=sharing\n",
    "\n",
    "How to use run this tutorial with your data:\n",
    "1. Download or connect a git client to the lmt-analysis repository : https://github.com/fdechaumont/lmt-analysis\n",
    "2. Download the demo database produced by Live Mouse Tracker: http://bioimageanalysis.org\n",
    "3. Install anaconda, and run the jupyter notebook: https://www.anaconda.com/distribution/\n",
    "4. Point your browser to this file (example/Examples with Jupyter)\n",
    "/lmt/20180110_validation_4_ind_Experiment_6644.zip\n",
    "5. Run\n",
    "6. Select the database you just downloaded when asked.\n",
    "7. Enjoy the results."
   ]
  },
  {
   "cell_type": "markdown",
   "metadata": {},
   "source": [
    "## Performs the imports:\n",
    "* The only diffence with the original python code is the import that needs the following lines to work:\n",
    "```python\n",
    "import sys\n",
    "sys.path.insert(1, \"../\")\n",
    "```"
   ]
  },
  {
   "cell_type": "code",
   "execution_count": null,
   "metadata": {},
   "outputs": [],
   "source": [
    "'''\n",
    "Created on 15 fev. 2019\n",
    "\n",
    "@author: Fab\n",
    "'''\n",
    "%matplotlib inline\n",
    "\n",
    "import sys\n",
    "sys.path.insert(1, \"../\")\n",
    "\n",
    "\n",
    "import pandas as pd\n",
    "import numpy as np\n",
    "\n",
    "import sqlite3\n",
    "from lmtanalysis.FileUtil import getFilesToProcess\n",
    "\n",
    "from lmtanalysis.Animal import AnimalPool\n",
    "from lmtanalysis.Measure import *\n",
    "from lmtanalysis.Event import EventTimeLine, plotMultipleTimeLine\n"
   ]
  },
  {
   "cell_type": "markdown",
   "metadata": {},
   "source": [
    "## Ask file to process to the user with a dialog window:\n",
    "* note: You can run this step only once, and then keep processing the file(s) with the next cells.\n",
    "* note2: the file window can be hidden by other windows."
   ]
  },
  {
   "cell_type": "code",
   "execution_count": null,
   "metadata": {
    "scrolled": true
   },
   "outputs": [],
   "source": [
    "#ask the user for database to process\n",
    "print( \"Select file name in window\")\n",
    "files = getFilesToProcess()"
   ]
  },
  {
   "cell_type": "markdown",
   "metadata": {},
   "source": [
    "## Display trajectories of animals\n",
    "* For this example we filter data from 0 to 1 hour\n",
    "* Trajectories are plotted considering the kinect resolution.\n",
    "    * 30 detections per second\n",
    "    * 512x424 infra red sensor resolution"
   ]
  },
  {
   "cell_type": "code",
   "execution_count": null,
   "metadata": {},
   "outputs": [],
   "source": [
    "for file in files:\n",
    "\n",
    "    # connect to database\n",
    "    connection = sqlite3.connect( file )\n",
    "\n",
    "    # create an animalPool, which basically contains your animals\n",
    "    animalPool = AnimalPool()\n",
    "\n",
    "    # load infos about the animals\n",
    "    animalPool.loadAnimals( connection )\n",
    "    \n",
    "\n",
    "    # load all detection (positions) of all animals for the first hour\n",
    "    animalPool.loadDetection( start = 0, end = oneHour )\n",
    "\n",
    "    # plot and show trajectory\n",
    "    animalPool.plotTrajectory()\n",
    "    "
   ]
  },
  {
   "cell_type": "markdown",
   "metadata": {},
   "source": [
    "## Filter trajectories : keep tracks which are slower than 2cm/s"
   ]
  },
  {
   "cell_type": "code",
   "execution_count": null,
   "metadata": {},
   "outputs": [],
   "source": [
    "for file in files:\n",
    "\n",
    "    # connect to database\n",
    "    connection = sqlite3.connect( file )\n",
    "\n",
    "    # create an animalPool, which basically contains your animals\n",
    "    animalPool = AnimalPool()\n",
    "\n",
    "    # load infos about the animals\n",
    "    animalPool.loadAnimals( connection )\n",
    "\n",
    "    # load all detection (positions) of all animals for the first hour\n",
    "    animalPool.loadDetection( start = 0, end = oneHour )\n",
    "\n",
    "    # filter detection by animalSpeed (speed is in centimeters per second)\n",
    "    animalPool.filterDetectionByInstantSpeed( 0, 2 )\n",
    "\n",
    "    # plot and show trajectory\n",
    "    animalPool.plotTrajectory( title=\"Trajectories filtered by speed (max 2) \")"
   ]
  },
  {
   "cell_type": "markdown",
   "metadata": {},
   "source": [
    "## Get time spent in area\n",
    "* In this example we only keep the area where the house has been placed\n",
    "* Numbers on the graph is the RFID number of the animal"
   ]
  },
  {
   "cell_type": "code",
   "execution_count": null,
   "metadata": {},
   "outputs": [],
   "source": [
    "for file in files:\n",
    "\n",
    "    # connect to database\n",
    "    connection = sqlite3.connect( file )\n",
    "\n",
    "    # create an animalPool, which basically contains your animals\n",
    "    animalPool = AnimalPool()\n",
    "\n",
    "    # load infos about the animals\n",
    "    animalPool.loadAnimals( connection )\n",
    "\n",
    "    # load all detection (positions) of all animals for the first hour\n",
    "    animalPool.loadDetection( start = 0, end = 10*oneMinute )\n",
    "\n",
    "    # filter detection by area (in cm from the top left of the cage)\n",
    "    animalPool.filterDetectionByArea( 0, 30, 25, 50 );\n",
    "\n",
    "    # loop over all animals in this database\n",
    "    for animal in animalPool.getAnimalList():\n",
    "\n",
    "        # print RFID of animal\n",
    "        print ( \"Animal : \" , animal.RFID )\n",
    "        # number of frame in which the animal has been detected:\n",
    "        numberOfFrame = len ( animal.detectionDictionnary.keys() )\n",
    "        # we have 30 frames per second\n",
    "        timeInSecond = numberOfFrame / 30\n",
    "        # print result\n",
    "        print( \"Time spent in area: (in second): \" , timeInSecond )\n",
    "\n",
    "    animalPool.plotTrajectory( title=\"Trajectories filtered by area\" , scatter=True )\n",
    "\n",
    "\n"
   ]
  },
  {
   "cell_type": "markdown",
   "metadata": {},
   "source": [
    "## 3D rendering of the trajectory"
   ]
  },
  {
   "cell_type": "code",
   "execution_count": null,
   "metadata": {},
   "outputs": [],
   "source": [
    "for file in files:\n",
    "\n",
    "    # connect to database\n",
    "    connection = sqlite3.connect( file )\n",
    "\n",
    "    # create an animalPool, which basically contains your animals\n",
    "    animalPool = AnimalPool()\n",
    "\n",
    "    # load infos about the animals\n",
    "    animalPool.loadAnimals( connection )\n",
    "\n",
    "    # load all detection (positions) of all animals for the first hour\n",
    "    animalPool.loadDetection( start = 0, end = 10*oneMinute )\n",
    "\n",
    "    # filter detection by area (in cm from the top left of the cage)\n",
    "    animalPool.filterDetectionByArea( 0, 30, 25, 50 );\n",
    "\n",
    "    # loop over all animals in this database\n",
    "    for animal in animalPool.getAnimalList():\n",
    "\n",
    "        animal.plotTrajectory3D()\n",
    "\n",
    "            \n",
    "        \n",
    "            \n",
    "    \n",
    "    "
   ]
  },
  {
   "cell_type": "markdown",
   "metadata": {},
   "source": [
    "## Displays distance traveled in cm and use scatter plot style"
   ]
  },
  {
   "cell_type": "code",
   "execution_count": null,
   "metadata": {},
   "outputs": [],
   "source": [
    "    for file in files:\n",
    "        \n",
    "        # connect to database\n",
    "        connection = sqlite3.connect( file )\n",
    "        \n",
    "        # create an animalPool, which basically contains your animals\n",
    "        animalPool = AnimalPool()\n",
    "        \n",
    "        # load infos about the animals\n",
    "        animalPool.loadAnimals( connection )\n",
    "        \n",
    "        # load all detection (positions) of all animals for the first hour\n",
    "        animalPool.loadDetection( start = 0, end = 10*oneMinute )\n",
    "        \n",
    "        # filter detection by area (in cm from the top left of the cage)\n",
    "        animalPool.filterDetectionByArea( 0, 30, 25, 50 );\n",
    "        \n",
    "        # loop over all animals in this database\n",
    "        for animal in animalPool.getAnimalList():\n",
    "            \n",
    "            # print RFID of animal\n",
    "            print ( \"Animal : \" , animal.RFID )\n",
    "            # distance traveled by animal (in cm):            \n",
    "            print( \"Distance traveled in area: (in centimeter): \" , animal.getDistance( ) )\n",
    "            \n",
    "        animalPool.plotTrajectory( title=\"Trajectories filtered by area\" , scatter=True )\n",
    "            \n",
    "    \n",
    "    "
   ]
  },
  {
   "cell_type": "markdown",
   "metadata": {},
   "source": [
    "## Show event timeline\n",
    "* In this example, we show the time line for the event \"Oral-genital contact\" for the first our of experiment\n",
    "* Note that time line can be very dense and may not be displayed correctly. Consider saving them as PDF and then open it in a reader to get the proper display."
   ]
  },
  {
   "cell_type": "code",
   "execution_count": null,
   "metadata": {
    "scrolled": true
   },
   "outputs": [],
   "source": [
    "for file in files:\n",
    "\n",
    "    # connect to database\n",
    "    connection = sqlite3.connect( file )\n",
    "\n",
    "    # create an animalPool, which basically contains your animals\n",
    "    animalPool = AnimalPool()\n",
    "\n",
    "    # load infos about the animals\n",
    "    animalPool.loadAnimals( connection )\n",
    "\n",
    "    # load all detection (positions) of all animals for the first hour\n",
    "    animalPool.loadDetection( start = 0, end = oneHour )\n",
    "\n",
    "    eventTimeLine = EventTimeLine( connection, \"Oral-genital Contact\", minFrame = 0, maxFrame = oneHour )\n",
    "    \n",
    "    eventTimeLine.plotTimeLine()\n",
    "        "
   ]
  },
  {
   "cell_type": "markdown",
   "metadata": {},
   "source": [
    "## Show multiple timeline with id\n"
   ]
  },
  {
   "cell_type": "code",
   "execution_count": null,
   "metadata": {},
   "outputs": [],
   "source": [
    "for file in files:\n",
    "\n",
    "    # connect to database\n",
    "    connection = sqlite3.connect( file )\n",
    "\n",
    "    # create an animalPool, which basically contains your animals\n",
    "    animalPool = AnimalPool()\n",
    "\n",
    "    # load infos about the animals\n",
    "    animalPool.loadAnimals( connection )\n",
    "\n",
    "    # load all detection (positions) of all animals for the first hour\n",
    "    animalPool.loadDetection( start = 0, end = oneHour )\n",
    "\n",
    "    eventTimeLine1 = EventTimeLine( connection, \"Oral-genital Contact\", idA = 1, idB = 2, minFrame = 0, maxFrame = oneHour )        \n",
    "    eventTimeLine2 = EventTimeLine( connection, \"Oral-genital Contact\", idA = 2, idB = 1, minFrame = 0, maxFrame = oneHour )\n",
    "\n",
    "    plotMultipleTimeLine( [ eventTimeLine1, eventTimeLine2 ] )\n"
   ]
  },
  {
   "cell_type": "markdown",
   "metadata": {},
   "source": [
    "## Show timeline with all different id combinaison\n",
    "* In this experiment we have 4 animals\n",
    "* This script will show all animal combinations for this time line."
   ]
  },
  {
   "cell_type": "code",
   "execution_count": null,
   "metadata": {},
   "outputs": [],
   "source": [
    "for file in files:\n",
    "\n",
    "    # connect to database\n",
    "    connection = sqlite3.connect( file )\n",
    "\n",
    "    # create an animalPool, which basically contains your animals\n",
    "    animalPool = AnimalPool()\n",
    "\n",
    "    # load infos about the animals\n",
    "    animalPool.loadAnimals( connection )\n",
    "\n",
    "    # load all detection (positions) of all animals for the first hour\n",
    "    animalPool.loadDetection( start = 0, end = oneHour )\n",
    "\n",
    "    eventTimeLineList = []\n",
    "    for a in animalPool.getAnimalDictionnary():\n",
    "        for b in animalPool.getAnimalDictionnary():\n",
    "            if a == b:\n",
    "                continue\n",
    "            eventTimeLine = EventTimeLine( connection, \"Oral-genital Contact\", idA = a, idB = b, minFrame = 0, maxFrame = oneHour )\n",
    "            eventTimeLineList.append( eventTimeLine )        \n",
    "\n",
    "    plotMultipleTimeLine( eventTimeLineList )\n"
   ]
  },
  {
   "cell_type": "markdown",
   "metadata": {},
   "source": [
    "## Number and duration of events\n",
    "\n",
    "In this example we extract the duration of the events, and we display them with pandas."
   ]
  },
  {
   "cell_type": "code",
   "execution_count": null,
   "metadata": {},
   "outputs": [],
   "source": [
    "for file in files:\n",
    "\n",
    "    # connect to database\n",
    "    connection = sqlite3.connect( file )\n",
    "\n",
    "    # create an animalPool, which basically contains your animals\n",
    "    animalPool = AnimalPool()\n",
    "\n",
    "    # load infos about the animals\n",
    "    animalPool.loadAnimals( connection )\n",
    "\n",
    "    # load all detection (positions) of all animals for the first hour\n",
    "    animalPool.loadDetection( start = 0, end = oneHour )\n",
    "\n",
    "    eventTimeLine = EventTimeLine( connection, \"Oral-genital Contact\", idA = 1 , idB = 2, minFrame = 0, maxFrame = oneHour )\n",
    "\n",
    "    print ( \"Event list for label \", eventTimeLine.eventNameWithId )\n",
    "    print ( \"for animal 1:\", animalPool.getAnimalDictionnary()[1].RFID )\n",
    "    print ( \"for animal 2:\", animalPool.getAnimalDictionnary()[2].RFID )\n",
    "    print ( \"Number of events:\", len( eventTimeLine.getEventList() ) )\n",
    "\n",
    "    import pandas as pd\n",
    "    \n",
    "    #df = pd.DataFrame( columns=( \"Start frame\",\"End frame\", \"Duration (in frame)\" )\n",
    "    #print ( \"start frame\",\"end frame\", \"duration(in frame)\")        \n",
    "    \n",
    "    data = []\n",
    "    \n",
    "    for event in eventTimeLine.eventList:\n",
    "        data.append( [ event.startFrame, event.endFrame, event.duration() ] )\n",
    "        #print( event.startFrame, event.endFrame, event.duration() )\n",
    "\n",
    "import pandas as pd\n",
    "import numpy as np\n",
    "\n",
    "df = pd.DataFrame( data = np.array( data ), columns=[ \"Start frame\",\"End frame\", \"Duration (in frame)\" ] )\n",
    "\n",
    "df                      "
   ]
  },
  {
   "cell_type": "markdown",
   "metadata": {},
   "source": [
    "## Show the mask of the animal at t=300\n",
    "\n",
    "This code grabs the data from the *data* field of the detection table. It unzip the mask used as region of interest to display it in a figure, so that you can see the silhouette of the animals"
   ]
  },
  {
   "cell_type": "code",
   "execution_count": null,
   "metadata": {},
   "outputs": [],
   "source": [
    "for file in files:\n",
    "\n",
    "    animalPool = AnimalPool( )\n",
    "    animalPool.loadAnimals( connection )\n",
    "    \n",
    "    # show the mask of animals at frame 300\n",
    "    animalPool.showMask( 300 )\n"
   ]
  },
  {
   "cell_type": "markdown",
   "metadata": {},
   "source": [
    "# Show (x,y,z) position of the first animal\n",
    "For the purpose of the example and for the limit the output size, we take the first file, and we process the first animal"
   ]
  },
  {
   "cell_type": "code",
   "execution_count": null,
   "metadata": {},
   "outputs": [],
   "source": [
    "file = files[0]\n",
    "    \n",
    "# connect to database\n",
    "connection = sqlite3.connect( file )\n",
    "\n",
    "# create an animalPool, which basically contains your animals\n",
    "animalPool = AnimalPool()\n",
    "\n",
    "animalPool.loadAnimals( connection )\n",
    "\n",
    "# load all detection (positions) of all animals for the first hour\n",
    "animalPool.loadDetection( start = 0, end = oneHour )\n",
    "\n",
    "animal = animalPool.animalDictionnary[1]\n",
    "\n",
    "print (\"******\")\n",
    "print ( animal )\n",
    "\n",
    "print (\"Position coordinates:\")\n",
    "\n",
    "data = []\n",
    "\n",
    "for detectionKey in animal.detectionDictionnary:\n",
    "    detection = animal.detectionDictionnary[ detectionKey ]\n",
    "    t = detectionKey\n",
    "    x = detection.massX\n",
    "    y = detection.massY\n",
    "    z = detection.massZ\n",
    "    data.append( [ t,x,y,z ] )\n",
    "\n",
    "df = pd.DataFrame( data = np.array( data ), columns=[ \"frame number\", \"x\",\"y\",\"z\" ] )\n",
    "\n",
    "df "
   ]
  },
  {
   "cell_type": "code",
   "execution_count": null,
   "metadata": {},
   "outputs": [],
   "source": []
  }
 ],
 "metadata": {
  "kernelspec": {
   "display_name": "Python 3",
   "language": "python",
   "name": "python3"
  },
  "language_info": {
   "codemirror_mode": {
    "name": "ipython",
    "version": 3
   },
   "file_extension": ".py",
   "mimetype": "text/x-python",
   "name": "python",
   "nbconvert_exporter": "python",
   "pygments_lexer": "ipython3",
   "version": "3.6.4"
  }
 },
 "nbformat": 4,
 "nbformat_minor": 4
}
