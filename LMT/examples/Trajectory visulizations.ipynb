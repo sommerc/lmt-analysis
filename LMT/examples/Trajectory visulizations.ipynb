{
 "cells": [
  {
   "cell_type": "markdown",
   "metadata": {},
   "source": [
    "# Visualizing trajectories\n",
    "---"
   ]
  },
  {
   "cell_type": "markdown",
   "metadata": {},
   "source": [
    "### Import required packages"
   ]
  },
  {
   "cell_type": "code",
   "execution_count": null,
   "metadata": {},
   "outputs": [],
   "source": [
    "import os\n",
    "import sys\n",
    "import numpy\n",
    "import pandas\n",
    "import sqlite3\n",
    "\n",
    "sys.path.insert(1, \"../\")\n",
    "\n",
    "from lmtanalysis import Measure\n",
    "from lmtanalysis import Features\n",
    "\n",
    "from lmtanalysis.Animal   import AnimalPool\n",
    "from scripts.Set_Genotype import set_genotype\n",
    "from lmtanalysis.Event    import EventTimeLine\n",
    "from lmtanalysis.FileUtil import getFilesToProcess\n",
    "from lmtanalysis.Util     import getAllEvents, mute_prints\n",
    "\n",
    "from matplotlib import pyplot as plt, patches"
   ]
  },
  {
   "cell_type": "code",
   "execution_count": null,
   "metadata": {},
   "outputs": [],
   "source": [
    "get_ipython().magic('reload_ext autoreload')\n",
    "get_ipython().magic('autoreload 2')\n",
    "get_ipython().magic('matplotlib qt5')"
   ]
  },
  {
   "cell_type": "markdown",
   "metadata": {},
   "source": [
    "### Load a SQLite database"
   ]
  },
  {
   "cell_type": "code",
   "execution_count": null,
   "metadata": {},
   "outputs": [],
   "source": [
    "files = getFilesToProcess()\n",
    "\n",
    "if files and len(files) > 0:\n",
    "    SQLITE_FN = files[0]\n",
    "    out_dir  = os.path.dirname(SQLITE_FN)\n",
    "    out_base = os.path.splitext(SQLITE_FN)[0]\n",
    "else: print(\"No file selected...\")"
   ]
  },
  {
   "cell_type": "markdown",
   "metadata": {},
   "source": [
    "### Connect to data base and load detections for first 10 minutes"
   ]
  },
  {
   "cell_type": "code",
   "execution_count": null,
   "metadata": {},
   "outputs": [],
   "source": [
    "connection = sqlite3.connect( SQLITE_FN )\n",
    "animalPool = AnimalPool()\n",
    "\n",
    "with mute_prints():\n",
    "    # load infos about the animals\n",
    "    animalPool.loadAnimals( connection )\n",
    "    # load all detection (positions) of all animals for the first hour\n",
    "    animalPool.loadDetection(\n",
    "                             start = 0, \n",
    "                             end   = 10*Measure.oneMinute\n",
    "                            )\n",
    "    # retrieve all event names\n",
    "    all_events = getAllEvents(connection=connection)\n",
    "    \n",
    "detections = animalPool.getDetectionTable()\n",
    "print(\"Done\")"
   ]
  },
  {
   "cell_type": "markdown",
   "metadata": {},
   "source": [
    "### Plot trajectories as lines"
   ]
  },
  {
   "cell_type": "code",
   "execution_count": null,
   "metadata": {},
   "outputs": [],
   "source": [
    "f, ax = plt.subplots(1, len(animalPool.getAnimalList()), sharex=True, sharey=True, figsize=(16,8), dpi=100)\n",
    "for i, (key, df) in enumerate(detections.groupby(\"RFID\")):\n",
    "    ax[i].plot(df.x_cm, df.y_cm, color=next(ax[0]._get_lines.prop_cycler)[\"color\"])\n",
    "    ax[i].set_aspect(1.)\n",
    "    arena = patches.Rectangle([0,0], 50, 50, fill=False, color=\"gray\", linewidth=3, label=\"Arena\")\n",
    "    center_area = patches.Rectangle([Measure.CENTER_MARGIN,]*2, 50-2*Measure.CENTER_MARGIN, 50-2*Measure.CENTER_MARGIN, fill=False, color=\"gray\", linewidth=2, linestyle=\":\", label=\"Center region\")\n",
    "    ax[i].add_patch(arena)\n",
    "    ax[i].add_patch(center_area)\n",
    "    ax[i].set_title(f\"{key} ({df.genotype.iloc[0]})\")\n",
    "    ax[i].set_xlabel(\"cm\")\n",
    "    ax[i].set_ylabel(\"cm\")\n",
    "ax[0].invert_yaxis()"
   ]
  },
  {
   "cell_type": "markdown",
   "metadata": {},
   "source": [
    "### Plot trajectories as scatter plot"
   ]
  },
  {
   "cell_type": "code",
   "execution_count": null,
   "metadata": {},
   "outputs": [],
   "source": [
    "f, ax = plt.subplots(1, len(animalPool.getAnimalList()), sharex=True, sharey=True, figsize=(16,8), dpi=100)\n",
    "for i, (key, df) in enumerate(detections.groupby(\"RFID\")):\n",
    "    ax[i].scatter(df.x_cm, df.y_cm, color=next(ax[0]._get_lines.prop_cycler)[\"color\"], alpha=0.05)\n",
    "    ax[i].set_aspect(1.)\n",
    "    arena = patches.Rectangle([0,0], 50, 50, fill=False, color=\"gray\", linewidth=3, label=\"Arena\")\n",
    "    center_area = patches.Rectangle([Measure.CENTER_MARGIN,]*2, 50-2*Measure.CENTER_MARGIN, 50-2*Measure.CENTER_MARGIN, fill=False, color=\"gray\", linewidth=2, linestyle=\":\", label=\"Center region\")\n",
    "    ax[i].add_patch(arena)\n",
    "    ax[i].add_patch(center_area)\n",
    "    ax[i].set_title(key)\n",
    "    ax[i].set_xlabel(\"cm\")\n",
    "    ax[i].set_ylabel(\"cm\")\n",
    "ax[0].invert_yaxis()"
   ]
  },
  {
   "cell_type": "code",
   "execution_count": null,
   "metadata": {},
   "outputs": [],
   "source": []
  }
 ],
 "metadata": {
  "kernelspec": {
   "display_name": "Python 3",
   "language": "python",
   "name": "python3"
  },
  "language_info": {
   "codemirror_mode": {
    "name": "ipython",
    "version": 3
   },
   "file_extension": ".py",
   "mimetype": "text/x-python",
   "name": "python",
   "nbconvert_exporter": "python",
   "pygments_lexer": "ipython3",
   "version": "3.6.4"
  }
 },
 "nbformat": 4,
 "nbformat_minor": 4
}
