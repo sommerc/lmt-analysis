{
 "cells": [
  {
   "cell_type": "markdown",
   "metadata": {},
   "source": [
    "# Using the lmt-analysis library with Jupyter - Level 2\n",
    "\n",
    "We show here some more advanced examples of Live Mouse Tracker analysis.\n",
    "\n",
    "Video demo and available databases: https://livemousetracker.org/\n",
    "Paper : https://www.biorxiv.org/content/10.1101/345132v2\n",
    "mail: chaumont@pasteur.fr, elodie.ey@pasteur.fr\n",
    "Twitter : @fabdechaumont\n",
    "Another tutorial of the this lib (slide presentation): https://docs.google.com/presentation/d/1wR7JM2vq5ZjugrwDe4YuuKJm0MWIvkHAvrOH7mQNOEk/edit?usp=sharing\n",
    "\n",
    "How to use run this tutorial with your data:\n",
    "1. Download or connect a git client to the lmt-analysis repository : https://github.com/fdechaumont/lmt-analysis\n",
    "2. Download the demo database produced by Live Mouse Tracker: http://bioimageanalysis.org\n",
    "3. Install anaconda, and run the jupyter notebook: https://www.anaconda.com/distribution/\n",
    "4. Point your browser to this file (example/Examples with Jupyter)\n",
    "/lmt/20180110_validation_4_ind_Experiment_6644.zip\n",
    "5. Run\n",
    "6. Select the database you just downloaded when asked.\n",
    "7. Enjoy the results."
   ]
  },
  {
   "cell_type": "markdown",
   "metadata": {},
   "source": [
    "In this demo, we will use widgets to make the analysis interactive with the user."
   ]
  },
  {
   "cell_type": "code",
   "execution_count": null,
   "metadata": {},
   "outputs": [],
   "source": [
    "'''\n",
    "Created on 15 fev. 2019\n",
    "\n",
    "@author: Fab\n",
    "'''\n",
    "%matplotlib inline\n",
    "\n",
    "import sys\n",
    "sys.path.insert(1, \"../\")\n",
    "\n",
    "\n",
    "import pandas as pd\n",
    "import numpy as np\n",
    "\n",
    "import sqlite3\n",
    "from lmtanalysis.FileUtil import getFilesToProcess\n",
    "\n",
    "from lmtanalysis.Animal import AnimalPool\n",
    "from lmtanalysis.Animal import Animal\n",
    "from lmtanalysis.Measure import *\n",
    "from lmtanalysis.Util import getAllEvents\n",
    "from lmtanalysis.Event import EventTimeLine, plotMultipleTimeLine\n",
    "\n",
    "from lmtanalysis.Util import convert_to_d_h_m_s\n",
    "from lmtanalysis.Util import d_h_m_s_toText\n",
    "\n",
    "from lmtanalysis.Measure import oneDay\n",
    "\n",
    "# widgets\n",
    "\n",
    "import ipywidgets as widgets\n",
    "from IPython.display import display\n",
    "from IPython.core.display import HTML"
   ]
  },
  {
   "cell_type": "markdown",
   "metadata": {},
   "source": [
    "## Ask file to process to the user with a dialog window:\n",
    "* note: You can run this step only once, and then keep processing the file(s) with the next cells.\n",
    "* note2: the file window can be hidden by other windows."
   ]
  },
  {
   "cell_type": "code",
   "execution_count": null,
   "metadata": {
    "scrolled": true
   },
   "outputs": [],
   "source": [
    "#ask the user for database to process\n",
    "files = getFilesToProcess()"
   ]
  },
  {
   "cell_type": "markdown",
   "metadata": {},
   "source": [
    "## Grab all events and animals available, and create widgets with it.\n",
    "* We create a widget with all events available\n",
    "* We create a widget with all the animals available"
   ]
  },
  {
   "cell_type": "code",
   "execution_count": null,
   "metadata": {},
   "outputs": [],
   "source": [
    "\n",
    "\n",
    "\n",
    "file = files[0]\n",
    "eventList = getAllEvents(file=file )\n",
    "\n",
    "connection = sqlite3.connect( file )\n",
    "animalPool = AnimalPool()\n",
    "animalPool.loadAnimals( connection )\n",
    "\n",
    "\n",
    "animalIdList = []\n",
    "animalIdList.append( \"Any animal\" )\n",
    "for animalKey in animalPool.getAnimalDictionnary():\n",
    "    animal = animalPool.getAnimalDictionnary()[animalKey]\n",
    "    animalIdList.append( animal )\n",
    "    \n",
    "\n",
    "eventWidget = widgets.Dropdown(\n",
    "    options=eventList,    \n",
    "    description='Event name:',\n",
    "    disabled=False,\n",
    ")\n",
    "\n",
    "animalWidget = {}\n",
    "animalWidget['A'] = widgets.Dropdown( options=animalIdList, description='Animal A:' )\n",
    "animalWidget['B'] = widgets.Dropdown( options=animalIdList, description='Animal B:' )\n",
    "animalWidget['C'] = widgets.Dropdown( options=animalIdList, description='Animal C:' )\n",
    "animalWidget['D'] = widgets.Dropdown( options=animalIdList, description='Animal D:' )\n",
    "\n",
    "display( eventWidget )\n",
    "display( animalWidget['A'] )\n",
    "display( animalWidget['B'] )\n",
    "display( animalWidget['C'] )\n",
    "display( animalWidget['D'] )\n",
    "\n",
    "startFrameWidget = widgets.IntText( value=0, description='Start time (in frame):' )\n",
    "endFrameWidget = widgets.IntText( value= oneDay, description='End time (in frame):' )\n",
    "display( startFrameWidget , endFrameWidget )\n"
   ]
  },
  {
   "cell_type": "code",
   "execution_count": null,
   "metadata": {},
   "outputs": [],
   "source": []
  },
  {
   "cell_type": "markdown",
   "metadata": {},
   "source": [
    "# Provide a result with selected event and animals"
   ]
  },
  {
   "cell_type": "code",
   "execution_count": null,
   "metadata": {
    "scrolled": true
   },
   "outputs": [],
   "source": [
    "def getAnimalBaseIdFromWidget( value ):\n",
    "    if type(value) is Animal:\n",
    "        return value.baseId\n",
    "    return None\n",
    "\n",
    "def printBold( txt , color=\"black\"):\n",
    "    display(HTML(\"<font color={}><h1>{}</h1></font>\".format( color, txt ) ))    \n",
    "    \n",
    "def isInvolved( animal ):\n",
    "    \"\"\" Check if the animal is involved in the current query \"\"\"\n",
    "    for k in animalWidget:\n",
    "        id = getAnimalBaseIdFromWidget( animalWidget[k].value )\n",
    "        if ( id== animal.baseId ):\n",
    "            return True\n",
    "    return False            \n",
    "\n",
    "print( \"Event selected: \", eventWidget.value )\n",
    "print( \"Animal A: \" , animalWidget['A'].value )\n",
    "print( \"Animal B: \" , animalWidget['B'].value )\n",
    "print( \"Animal C: \" , animalWidget['C'].value )\n",
    "print( \"Animal D: \" , animalWidget['D'].value )\n",
    "\n",
    "minFrame = startFrameWidget.value\n",
    "maxFrame = endFrameWidget.value\n",
    "\n",
    "print ( \"Start time: \", d_h_m_s_toText ( convert_to_d_h_m_s( minFrame ) ) )\n",
    "print ( \"End time: \", d_h_m_s_toText ( convert_to_d_h_m_s( maxFrame ) ) )\n",
    "\n",
    "idA = getAnimalBaseIdFromWidget( animalWidget['A'].value )\n",
    "idB = getAnimalBaseIdFromWidget( animalWidget['B'].value )\n",
    "idC = getAnimalBaseIdFromWidget( animalWidget['C'].value )\n",
    "idD = getAnimalBaseIdFromWidget( animalWidget['D'].value )\n",
    "\n",
    "eventTimeLine = EventTimeLine( connection, eventWidget.value, idA = idA, idB = idB, idC = idC, idD = idD, minFrame = minFrame, maxFrame = maxFrame )        \n",
    "\n",
    "printBold( eventTimeLine )\n",
    "# display number of events:\n",
    "printBold( \"Number of events : \" + str(eventTimeLine.getNumberOfEvent()) , color = \"red\" )\n",
    "\n",
    "# display events in time line\n",
    "data = []\n",
    "    \n",
    "for event in eventTimeLine.eventList:\n",
    "    data.append( [ event.startFrame, event.endFrame, event.duration() ] )\n",
    "    #print( event.startFrame, event.endFrame, event.duration() )\n",
    "\n",
    "df = pd.DataFrame( data = np.array( data ), columns=[ \"Start frame\",\"End frame\", \"Duration (in frame)\" ] )\n",
    "display( df )\n",
    "\n",
    "printBold( \"Distribution of duration of events:\" )\n",
    "eventTimeLine.plotEventDurationDistributionBar()\n",
    "printBold( \"Distribution of duration of events in bins:\" )\n",
    "eventTimeLine.plotEventDurationDistributionHist()\n",
    "printBold( \"Time line of event:\" )\n",
    "eventTimeLine.plotTimeLine()\n",
    "\n",
    "#show location of events\n",
    "\n",
    "animalPool.loadDetection( start= minFrame, end = maxFrame )\n",
    "animalPool.filterDetectionByEventTimeLine( eventTimeLine )\n",
    "\n",
    "for animalKey in animalPool.getAnimalDictionnary():\n",
    "    animal = animalPool.getAnimalDictionnary()[animalKey]\n",
    "    \n",
    "    if isInvolved( animal ) :\n",
    "        printBold( \"involved\", color =\"green\")        \n",
    "    else:\n",
    "        printBold( \"this animal not involved in event definition\", color =\"red\" )\n",
    "    \n",
    "    animal.plotTrajectory()\n",
    "\n"
   ]
  },
  {
   "cell_type": "code",
   "execution_count": null,
   "metadata": {},
   "outputs": [],
   "source": []
  },
  {
   "cell_type": "code",
   "execution_count": null,
   "metadata": {},
   "outputs": [],
   "source": []
  }
 ],
 "metadata": {
  "kernelspec": {
   "display_name": "Python 3",
   "language": "python",
   "name": "python3"
  },
  "language_info": {
   "codemirror_mode": {
    "name": "ipython",
    "version": 3
   },
   "file_extension": ".py",
   "mimetype": "text/x-python",
   "name": "python",
   "nbconvert_exporter": "python",
   "pygments_lexer": "ipython3",
   "version": "3.6.4"
  }
 },
 "nbformat": 4,
 "nbformat_minor": 4
}
