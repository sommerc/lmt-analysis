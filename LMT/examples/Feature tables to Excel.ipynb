{
 "cells": [
  {
   "cell_type": "markdown",
   "metadata": {},
   "source": [
    "# Using the lmt-analysis library to export detection and event tables to Excel\n",
    "---"
   ]
  },
  {
   "cell_type": "markdown",
   "metadata": {},
   "source": [
    "### Import required packages"
   ]
  },
  {
   "cell_type": "code",
   "execution_count": null,
   "metadata": {},
   "outputs": [],
   "source": [
    "import os\n",
    "import sys\n",
    "import numpy\n",
    "import pandas\n",
    "import sqlite3\n",
    "\n",
    "sys.path.insert(1, \"../\")\n",
    "\n",
    "from lmtanalysis import Measure\n",
    "from lmtanalysis import Features\n",
    "from lmtanalysis.Util     import getAllEvents\n",
    "from lmtanalysis.Animal   import AnimalPool\n",
    "from lmtanalysis.Event    import EventTimeLine\n",
    "from lmtanalysis.FileUtil import getFilesToProcess\n",
    "from scripts.Set_Genotype import set_genotype"
   ]
  },
  {
   "cell_type": "code",
   "execution_count": null,
   "metadata": {},
   "outputs": [],
   "source": [
    "get_ipython().magic('reload_ext autoreload')\n",
    "get_ipython().magic('autoreload 2')\n",
    "get_ipython().magic('matplotlib qt5')"
   ]
  },
  {
   "cell_type": "markdown",
   "metadata": {},
   "source": [
    "### Load an SQLite database"
   ]
  },
  {
   "cell_type": "code",
   "execution_count": null,
   "metadata": {},
   "outputs": [],
   "source": [
    "files = getFilesToProcess()\n",
    "\n",
    "if files and len(files) > 0:\n",
    "    SQLITE_FN = files[0]\n",
    "    out_dir  = os.path.dirname(SQLITE_FN)\n",
    "    out_base = os.path.splitext(SQLITE_FN)[0]\n",
    "else: print(\"No file selected...\")"
   ]
  },
  {
   "cell_type": "markdown",
   "metadata": {},
   "source": [
    "### Enter genotype (required for dyadic events table)"
   ]
  },
  {
   "cell_type": "code",
   "execution_count": null,
   "metadata": {},
   "outputs": [],
   "source": [
    "set_genotype([SQLITE_FN])"
   ]
  },
  {
   "cell_type": "markdown",
   "metadata": {},
   "source": [
    "### Connect to data base and load detections for first hour"
   ]
  },
  {
   "cell_type": "code",
   "execution_count": null,
   "metadata": {},
   "outputs": [],
   "source": [
    "connection = sqlite3.connect( SQLITE_FN )\n",
    "\n",
    "animalPool = AnimalPool()\n",
    "\n",
    "# load infos about the animals\n",
    "animalPool.loadAnimals( connection )\n",
    "\n",
    "# load all detection (positions) of all animals for the first hour\n",
    "animalPool.loadDetection( start = 0, end = Measure.oneHour)\n",
    "\n",
    "# retrieve all event names\n",
    "all_events = getAllEvents(connection=connection)"
   ]
  },
  {
   "cell_type": "markdown",
   "metadata": {},
   "source": [
    "### Compute detection summary table for two different time ranges\n",
    " * 12 time bins: 0 to 60 minutes with 5 minutes long interval\n",
    " * 1 time bin  : 0 to 60 minutes with 60 minutes long interval"
   ]
  },
  {
   "cell_type": "code",
   "execution_count": null,
   "metadata": {},
   "outputs": [],
   "source": [
    "detections_5min, detections_60min = Features.computeDetectionFeatures(animalPool, start=\"0min\", end=\"60min\", freq=[\"5min\", \"60min\"])\n",
    "\n",
    "# show\n",
    "detections_60min"
   ]
  },
  {
   "cell_type": "markdown",
   "metadata": {},
   "source": [
    "### Compute monadic event summary table for two different time ranges\n",
    " * 12 time bins: 0 to 60 minutes with 5 minutes long interval\n",
    " * 1 time bin  : 0 to 60 minutes with 60 minutes long interval"
   ]
  },
  {
   "cell_type": "code",
   "execution_count": null,
   "metadata": {},
   "outputs": [],
   "source": [
    "events_5min, events_60min = Features.computeMonadicEventFeatures(animalPool, start=\"0min\", end=\"60min\", freq=[\"5min\", \"60min\"])\n",
    "\n",
    "# show one table\n",
    "events_60min"
   ]
  },
  {
   "cell_type": "markdown",
   "metadata": {},
   "source": [
    "### Compute dyadic event summary table grouped by genotype for two different time ranges"
   ]
  },
  {
   "cell_type": "code",
   "execution_count": null,
   "metadata": {},
   "outputs": [],
   "source": [
    "dyadic_events = [\"Approach\", \n",
    "                 \"Approach contact\", \n",
    "                 \"Approach rear\", \n",
    "                 \"Break contact\", \n",
    "                 \"Contact\", \n",
    "                 \"FollowZone Isolated\", \n",
    "                 \"Get away\", \n",
    "                 \"Group2\", \n",
    "                 \"Group3\", \n",
    "                 \"Group4\", \n",
    "                 \"Oral-genital Contact\", \n",
    "                 \"Oral-oral Contact\", \n",
    "                 \"Side by side Contact\", \n",
    "                 \"Side by side Contact, opposite way\", \n",
    "                 \"Social approach\", \n",
    "                 \"Train2\", \n",
    "                 \"seq oral geni - oral oral\", \n",
    "                 \"seq oral oral - oral genital\"]"
   ]
  },
  {
   "cell_type": "code",
   "execution_count": null,
   "metadata": {},
   "outputs": [],
   "source": [
    "events_dyadic_5min, events_dyadic_60min = Features.computeDyadicEventFeature(animalPool, dyadic_events, start=\"0min\", end=\"60min\", freq=[\"5min\", \"60min\"])\n",
    "\n",
    "# show\n",
    "events_dyadic_60min"
   ]
  },
  {
   "cell_type": "markdown",
   "metadata": {},
   "source": [
    "### Export to Excel file\n",
    "stored in same folder as sqlite file, with 6 sheets:\n",
    " * Detection 5min\n",
    " * Detection 60min\n",
    " * Monadic Events 5min\n",
    " * Monadic Events 60min\n",
    " * Dyadic Events 5min\n",
    " * Dyadic Events 60min"
   ]
  },
  {
   "cell_type": "code",
   "execution_count": null,
   "metadata": {},
   "outputs": [],
   "source": [
    "export = {}\n",
    "export[\"Detection 5min\"]  = detections_5min\n",
    "export[\"Detection 60min\"] = detections_60min\n",
    "\n",
    "export[\"Monadic Events 5min\"]     = events_5min\n",
    "export[\"Monadic Events 60min\"]    = events_60min\n",
    "\n",
    "export[\"Dyadic Events 5min\"]     = events_dyadic_5min\n",
    "export[\"Dyadic Events 60min\"]    = events_dyadic_60min\n",
    "\n",
    "with pandas.ExcelWriter(out_base + \".xlsx\") as excl_writer:\n",
    "    for sheet_name, sheet_df in export.items():\n",
    "        sheet_df.to_excel(excl_writer, sheet_name=sheet_name)"
   ]
  },
  {
   "cell_type": "code",
   "execution_count": null,
   "metadata": {},
   "outputs": [],
   "source": []
  }
 ],
 "metadata": {
  "kernelspec": {
   "display_name": "Python 3",
   "language": "python",
   "name": "python3"
  },
  "language_info": {
   "codemirror_mode": {
    "name": "ipython",
    "version": 3
   },
   "file_extension": ".py",
   "mimetype": "text/x-python",
   "name": "python",
   "nbconvert_exporter": "python",
   "pygments_lexer": "ipython3",
   "version": "3.6.4"
  }
 },
 "nbformat": 4,
 "nbformat_minor": 4
}
