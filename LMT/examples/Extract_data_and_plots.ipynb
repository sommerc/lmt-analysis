{
 "cells": [
  {
   "cell_type": "code",
   "execution_count": 3,
   "metadata": {},
   "outputs": [],
   "source": [
    "import os\n",
    "import sys\n",
    "import glob\n",
    "import numpy\n",
    "import pandas\n",
    "\n",
    "sys.path.insert(1, \"../\")"
   ]
  },
  {
   "cell_type": "code",
   "execution_count": 4,
   "metadata": {},
   "outputs": [],
   "source": [
    "from lmtanalysis.Features import ExtractDyadic, ExtractMonadic, ExtractDetection"
   ]
  },
  {
   "cell_type": "code",
   "execution_count": 5,
   "metadata": {},
   "outputs": [],
   "source": [
    "get_ipython().magic('reload_ext autoreload')\n",
    "get_ipython().magic('autoreload 2')\n",
    "get_ipython().magic('matplotlib qt5')"
   ]
  },
  {
   "cell_type": "markdown",
   "metadata": {},
   "source": [
    "## Combine results from several .xlsx files\n",
    "---\n",
    "Note\n",
    "* you can use `freq=\"5min\"` or `freq=\"60min\"`\n",
    "* data can be exported to combined xlsx file with `ed.export_xlsx()`\n",
    "* the genotype information *wt1, wt2, mut1, mut2* is replaced into *wt, mut* respectively"
   ]
  },
  {
   "cell_type": "markdown",
   "metadata": {},
   "source": [
    "## 1. Detection parameters\n",
    "---"
   ]
  },
  {
   "cell_type": "markdown",
   "metadata": {},
   "source": [
    "#### Select xlsx files and freqencies to process"
   ]
  },
  {
   "cell_type": "code",
   "execution_count": null,
   "metadata": {},
   "outputs": [],
   "source": [
    "ed = ExtractDetection(freq=\"60min\") # freq can also be set to \"5min\""
   ]
  },
  {
   "cell_type": "markdown",
   "metadata": {},
   "source": [
    "#### Plot a column value\n",
    "* use order to order from left to right\n",
    "* one can also leave out a condition to suppress display"
   ]
  },
  {
   "cell_type": "code",
   "execution_count": null,
   "metadata": {},
   "outputs": [],
   "source": [
    "ed.plot(column=\"Distance_in_arena_center\", order=[\"wt\", \"mut\"]) "
   ]
  },
  {
   "cell_type": "markdown",
   "metadata": {},
   "source": [
    "### ... data used for the plot"
   ]
  },
  {
   "cell_type": "code",
   "execution_count": null,
   "metadata": {},
   "outputs": [],
   "source": [
    "ed.data(column=\"Distance_in_arena_center\")"
   ]
  },
  {
   "cell_type": "markdown",
   "metadata": {},
   "source": [
    "### ... write all combined columns into single .xlsx for external ploting"
   ]
  },
  {
   "cell_type": "code",
   "execution_count": null,
   "metadata": {},
   "outputs": [],
   "source": [
    "ed.export_xlsx() # this also works"
   ]
  },
  {
   "cell_type": "markdown",
   "metadata": {},
   "source": [
    "## 2. Monadic events\n",
    "---\n",
    "* use ci as confidence interval band indicator ci=95 => 95% confidence interval displayed"
   ]
  },
  {
   "cell_type": "code",
   "execution_count": null,
   "metadata": {},
   "outputs": [],
   "source": [
    "ed = ExtractMonadic(freq=\"60min\")\n",
    "ed.plot(\"Water Zone\", \"Number_of_events\", order=[\"wt\", \"mut\"])\n",
    "ed.data(\"Water Zone\", \"Number_of_events\")"
   ]
  },
  {
   "cell_type": "code",
   "execution_count": 9,
   "metadata": {},
   "outputs": [
    {
     "data": {
      "text/html": [
       "<div>\n",
       "<style scoped>\n",
       "    .dataframe tbody tr th:only-of-type {\n",
       "        vertical-align: middle;\n",
       "    }\n",
       "\n",
       "    .dataframe tbody tr th {\n",
       "        vertical-align: top;\n",
       "    }\n",
       "\n",
       "    .dataframe thead th {\n",
       "        text-align: right;\n",
       "    }\n",
       "</style>\n",
       "<table border=\"1\" class=\"dataframe\">\n",
       "  <thead>\n",
       "    <tr style=\"text-align: right;\">\n",
       "      <th></th>\n",
       "      <th>condition</th>\n",
       "      <th>time</th>\n",
       "      <th>Number_of_events</th>\n",
       "    </tr>\n",
       "    <tr>\n",
       "      <th>event_name</th>\n",
       "      <th></th>\n",
       "      <th></th>\n",
       "      <th></th>\n",
       "    </tr>\n",
       "  </thead>\n",
       "  <tbody>\n",
       "    <tr>\n",
       "      <th>Water Zone</th>\n",
       "      <td>mut</td>\n",
       "      <td>(0 days 00:00:00, 0 days 00:05:00]</td>\n",
       "      <td>13</td>\n",
       "    </tr>\n",
       "    <tr>\n",
       "      <th>Water Zone</th>\n",
       "      <td>mut</td>\n",
       "      <td>(0 days 00:05:00, 0 days 00:10:00]</td>\n",
       "      <td>6</td>\n",
       "    </tr>\n",
       "    <tr>\n",
       "      <th>Water Zone</th>\n",
       "      <td>mut</td>\n",
       "      <td>(0 days 00:10:00, 0 days 00:15:00]</td>\n",
       "      <td>8</td>\n",
       "    </tr>\n",
       "    <tr>\n",
       "      <th>Water Zone</th>\n",
       "      <td>mut</td>\n",
       "      <td>(0 days 00:15:00, 0 days 00:20:00]</td>\n",
       "      <td>5</td>\n",
       "    </tr>\n",
       "    <tr>\n",
       "      <th>Water Zone</th>\n",
       "      <td>mut</td>\n",
       "      <td>(0 days 00:20:00, 0 days 00:25:00]</td>\n",
       "      <td>3</td>\n",
       "    </tr>\n",
       "    <tr>\n",
       "      <th>...</th>\n",
       "      <td>...</td>\n",
       "      <td>...</td>\n",
       "      <td>...</td>\n",
       "    </tr>\n",
       "    <tr>\n",
       "      <th>Water Zone</th>\n",
       "      <td>wt</td>\n",
       "      <td>(0 days 00:25:00, 0 days 00:30:00]</td>\n",
       "      <td>2</td>\n",
       "    </tr>\n",
       "    <tr>\n",
       "      <th>Water Zone</th>\n",
       "      <td>wt</td>\n",
       "      <td>(0 days 00:30:00, 0 days 00:35:00]</td>\n",
       "      <td>5</td>\n",
       "    </tr>\n",
       "    <tr>\n",
       "      <th>Water Zone</th>\n",
       "      <td>wt</td>\n",
       "      <td>(0 days 00:35:00, 0 days 00:40:00]</td>\n",
       "      <td>5</td>\n",
       "    </tr>\n",
       "    <tr>\n",
       "      <th>Water Zone</th>\n",
       "      <td>wt</td>\n",
       "      <td>(0 days 00:40:00, 0 days 00:45:00]</td>\n",
       "      <td>3</td>\n",
       "    </tr>\n",
       "    <tr>\n",
       "      <th>Water Zone</th>\n",
       "      <td>wt</td>\n",
       "      <td>(0 days 00:55:00, 0 days 01:00:00]</td>\n",
       "      <td>2</td>\n",
       "    </tr>\n",
       "  </tbody>\n",
       "</table>\n",
       "<p>81 rows × 3 columns</p>\n",
       "</div>"
      ],
      "text/plain": [
       "           condition                                time  Number_of_events\n",
       "event_name                                                                \n",
       "Water Zone       mut  (0 days 00:00:00, 0 days 00:05:00]                13\n",
       "Water Zone       mut  (0 days 00:05:00, 0 days 00:10:00]                 6\n",
       "Water Zone       mut  (0 days 00:10:00, 0 days 00:15:00]                 8\n",
       "Water Zone       mut  (0 days 00:15:00, 0 days 00:20:00]                 5\n",
       "Water Zone       mut  (0 days 00:20:00, 0 days 00:25:00]                 3\n",
       "...              ...                                 ...               ...\n",
       "Water Zone        wt  (0 days 00:25:00, 0 days 00:30:00]                 2\n",
       "Water Zone        wt  (0 days 00:30:00, 0 days 00:35:00]                 5\n",
       "Water Zone        wt  (0 days 00:35:00, 0 days 00:40:00]                 5\n",
       "Water Zone        wt  (0 days 00:40:00, 0 days 00:45:00]                 3\n",
       "Water Zone        wt  (0 days 00:55:00, 0 days 01:00:00]                 2\n",
       "\n",
       "[81 rows x 3 columns]"
      ]
     },
     "execution_count": 9,
     "metadata": {},
     "output_type": "execute_result"
    }
   ],
   "source": [
    "ed = ExtractMonadic(freq=\"5min\")\n",
    "ed.plot(\"Water Zone\", \"Number_of_events\", ci=95) \n",
    "ed.data(\"Water Zone\", \"Number_of_events\")"
   ]
  },
  {
   "cell_type": "code",
   "execution_count": null,
   "metadata": {},
   "outputs": [],
   "source": []
  },
  {
   "cell_type": "markdown",
   "metadata": {},
   "source": [
    "## 3. Dyadic events\n",
    "---"
   ]
  },
  {
   "cell_type": "code",
   "execution_count": null,
   "metadata": {},
   "outputs": [],
   "source": [
    "ed = ExtractDyadic(freq=\"60min\")\n",
    "ed.plot(\"Contact\", \"Number_of_events\", order=[\"wt - wt\", \"mut - mut\", \"wt - mut\", \"mut - wt\"])\n",
    "ed.data(\"Contact\", \"Number_of_events\")"
   ]
  },
  {
   "cell_type": "code",
   "execution_count": 10,
   "metadata": {},
   "outputs": [
    {
     "data": {
      "text/html": [
       "<div>\n",
       "<style scoped>\n",
       "    .dataframe tbody tr th:only-of-type {\n",
       "        vertical-align: middle;\n",
       "    }\n",
       "\n",
       "    .dataframe tbody tr th {\n",
       "        vertical-align: top;\n",
       "    }\n",
       "\n",
       "    .dataframe thead th {\n",
       "        text-align: right;\n",
       "    }\n",
       "</style>\n",
       "<table border=\"1\" class=\"dataframe\">\n",
       "  <thead>\n",
       "    <tr style=\"text-align: right;\">\n",
       "      <th></th>\n",
       "      <th>condition</th>\n",
       "      <th>time</th>\n",
       "      <th>Number_of_events</th>\n",
       "    </tr>\n",
       "    <tr>\n",
       "      <th>event_name</th>\n",
       "      <th></th>\n",
       "      <th></th>\n",
       "      <th></th>\n",
       "    </tr>\n",
       "  </thead>\n",
       "  <tbody>\n",
       "    <tr>\n",
       "      <th>Contact</th>\n",
       "      <td>mut - mut</td>\n",
       "      <td>(0 days 00:00:00, 0 days 00:05:00]</td>\n",
       "      <td>29</td>\n",
       "    </tr>\n",
       "    <tr>\n",
       "      <th>Contact</th>\n",
       "      <td>mut - mut</td>\n",
       "      <td>(0 days 00:05:00, 0 days 00:10:00]</td>\n",
       "      <td>37</td>\n",
       "    </tr>\n",
       "    <tr>\n",
       "      <th>Contact</th>\n",
       "      <td>mut - mut</td>\n",
       "      <td>(0 days 00:10:00, 0 days 00:15:00]</td>\n",
       "      <td>32</td>\n",
       "    </tr>\n",
       "    <tr>\n",
       "      <th>Contact</th>\n",
       "      <td>mut - mut</td>\n",
       "      <td>(0 days 00:15:00, 0 days 00:20:00]</td>\n",
       "      <td>33</td>\n",
       "    </tr>\n",
       "    <tr>\n",
       "      <th>Contact</th>\n",
       "      <td>mut - mut</td>\n",
       "      <td>(0 days 00:20:00, 0 days 00:25:00]</td>\n",
       "      <td>24</td>\n",
       "    </tr>\n",
       "    <tr>\n",
       "      <th>...</th>\n",
       "      <td>...</td>\n",
       "      <td>...</td>\n",
       "      <td>...</td>\n",
       "    </tr>\n",
       "    <tr>\n",
       "      <th>Contact</th>\n",
       "      <td>wt - wt</td>\n",
       "      <td>(0 days 00:35:00, 0 days 00:40:00]</td>\n",
       "      <td>53</td>\n",
       "    </tr>\n",
       "    <tr>\n",
       "      <th>Contact</th>\n",
       "      <td>wt - wt</td>\n",
       "      <td>(0 days 00:40:00, 0 days 00:45:00]</td>\n",
       "      <td>48</td>\n",
       "    </tr>\n",
       "    <tr>\n",
       "      <th>Contact</th>\n",
       "      <td>wt - wt</td>\n",
       "      <td>(0 days 00:45:00, 0 days 00:50:00]</td>\n",
       "      <td>10</td>\n",
       "    </tr>\n",
       "    <tr>\n",
       "      <th>Contact</th>\n",
       "      <td>wt - wt</td>\n",
       "      <td>(0 days 00:50:00, 0 days 00:55:00]</td>\n",
       "      <td>29</td>\n",
       "    </tr>\n",
       "    <tr>\n",
       "      <th>Contact</th>\n",
       "      <td>wt - wt</td>\n",
       "      <td>(0 days 00:55:00, 0 days 01:00:00]</td>\n",
       "      <td>49</td>\n",
       "    </tr>\n",
       "  </tbody>\n",
       "</table>\n",
       "<p>288 rows × 3 columns</p>\n",
       "</div>"
      ],
      "text/plain": [
       "            condition                                time  Number_of_events\n",
       "event_name                                                                 \n",
       "Contact     mut - mut  (0 days 00:00:00, 0 days 00:05:00]                29\n",
       "Contact     mut - mut  (0 days 00:05:00, 0 days 00:10:00]                37\n",
       "Contact     mut - mut  (0 days 00:10:00, 0 days 00:15:00]                32\n",
       "Contact     mut - mut  (0 days 00:15:00, 0 days 00:20:00]                33\n",
       "Contact     mut - mut  (0 days 00:20:00, 0 days 00:25:00]                24\n",
       "...               ...                                 ...               ...\n",
       "Contact       wt - wt  (0 days 00:35:00, 0 days 00:40:00]                53\n",
       "Contact       wt - wt  (0 days 00:40:00, 0 days 00:45:00]                48\n",
       "Contact       wt - wt  (0 days 00:45:00, 0 days 00:50:00]                10\n",
       "Contact       wt - wt  (0 days 00:50:00, 0 days 00:55:00]                29\n",
       "Contact       wt - wt  (0 days 00:55:00, 0 days 01:00:00]                49\n",
       "\n",
       "[288 rows x 3 columns]"
      ]
     },
     "execution_count": 10,
     "metadata": {},
     "output_type": "execute_result"
    }
   ],
   "source": [
    "ed = ExtractDyadic(freq=\"5min\")\n",
    "# example: sshow only certain condition with smaler error bands\n",
    "ed.plot(\"Contact\", \"Number_of_events\", order=[\"wt - wt\", \"mut - mut\", ], ci=75)\n",
    "ed.data(\"Contact\", \"Number_of_events\")"
   ]
  },
  {
   "cell_type": "code",
   "execution_count": null,
   "metadata": {},
   "outputs": [],
   "source": []
  }
 ],
 "metadata": {
  "kernelspec": {
   "display_name": "Python 3",
   "language": "python",
   "name": "python3"
  },
  "language_info": {
   "codemirror_mode": {
    "name": "ipython",
    "version": 3
   },
   "file_extension": ".py",
   "mimetype": "text/x-python",
   "name": "python",
   "nbconvert_exporter": "python",
   "pygments_lexer": "ipython3",
   "version": "3.6.4"
  }
 },
 "nbformat": 4,
 "nbformat_minor": 4
}
