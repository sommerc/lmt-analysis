{
 "cells": [
  {
   "cell_type": "code",
   "execution_count": null,
   "metadata": {},
   "outputs": [],
   "source": [
    "import os\n",
    "import sys\n",
    "import glob\n",
    "import numpy\n",
    "import pandas\n",
    "\n",
    "sys.path.insert(1, \"../\")"
   ]
  },
  {
   "cell_type": "code",
   "execution_count": null,
   "metadata": {},
   "outputs": [],
   "source": [
    "from lmtanalysis.Features import ExtractDyadic, ExtractMonadic, ExtractDetection"
   ]
  },
  {
   "cell_type": "code",
   "execution_count": null,
   "metadata": {},
   "outputs": [],
   "source": [
    "get_ipython().magic('reload_ext autoreload')\n",
    "get_ipython().magic('autoreload 2')\n",
    "get_ipython().magic('matplotlib qt5')"
   ]
  },
  {
   "cell_type": "markdown",
   "metadata": {},
   "source": [
    "## Combine results from several .xlsx files\n",
    "---\n",
    "Note\n",
    "* you can use `freq=\"5min\"` or `freq=\"60min\"`\n",
    "* data can be exported to combined xlsx file with `ed.export_xlsx()`\n",
    "* the genotype information *wt1, wt2, mut1, mut2* is replaced into *wt, mut* respectively"
   ]
  },
  {
   "cell_type": "markdown",
   "metadata": {},
   "source": [
    "## 1. Detection parameters\n",
    "---"
   ]
  },
  {
   "cell_type": "markdown",
   "metadata": {},
   "source": [
    "#### Select xlsx files and freqencies to process"
   ]
  },
  {
   "cell_type": "code",
   "execution_count": null,
   "metadata": {},
   "outputs": [],
   "source": [
    "ed = ExtractDetection(freq=\"60min\") # freq can also be set to \"5min\""
   ]
  },
  {
   "cell_type": "markdown",
   "metadata": {},
   "source": [
    "#### Plot a column value\n",
    "* use order to order from left to right\n",
    "* one can also leave out a condition to suppress display"
   ]
  },
  {
   "cell_type": "code",
   "execution_count": null,
   "metadata": {},
   "outputs": [],
   "source": [
    "ed.plot(column=\"Distance_in_arena_center\", order=[\"wt\", \"mut\"]) "
   ]
  },
  {
   "cell_type": "markdown",
   "metadata": {},
   "source": [
    "### ... data used for the plot"
   ]
  },
  {
   "cell_type": "code",
   "execution_count": null,
   "metadata": {},
   "outputs": [],
   "source": [
    "ed.data(column=\"Distance_in_arena_center\")"
   ]
  },
  {
   "cell_type": "markdown",
   "metadata": {},
   "source": [
    "### ... write all combined columns into single .xlsx for external ploting"
   ]
  },
  {
   "cell_type": "code",
   "execution_count": null,
   "metadata": {},
   "outputs": [],
   "source": [
    "ed.export_xlsx() # this also works"
   ]
  },
  {
   "cell_type": "markdown",
   "metadata": {},
   "source": [
    "## 2. Monadic events\n",
    "---\n",
    "* use ci as confidence interval band indicator ci=95 => 95% confidence interval displayed"
   ]
  },
  {
   "cell_type": "code",
   "execution_count": null,
   "metadata": {},
   "outputs": [],
   "source": [
    "ed = ExtractMonadic(freq=\"60min\")\n",
    "ed.plot(\"Water Zone\", \"Number_of_events\", order=[\"wt\", \"mut\"])\n",
    "ed.data(\"Water Zone\", \"Number_of_events\")"
   ]
  },
  {
   "cell_type": "code",
   "execution_count": null,
   "metadata": {},
   "outputs": [],
   "source": [
    "ed = ExtractMonadic(freq=\"5min\")\n",
    "ed.plot(\"Water Zone\", \"Number_of_events\", ci=95) \n",
    "ed.data(\"Water Zone\", \"Number_of_events\")"
   ]
  },
  {
   "cell_type": "code",
   "execution_count": null,
   "metadata": {},
   "outputs": [],
   "source": []
  },
  {
   "cell_type": "markdown",
   "metadata": {},
   "source": [
    "## 3. Dyadic events\n",
    "---"
   ]
  },
  {
   "cell_type": "code",
   "execution_count": null,
   "metadata": {},
   "outputs": [],
   "source": [
    "ed = ExtractDyadic(freq=\"60min\")\n",
    "ed.plot(\"Contact\", \"Number_of_events\", order=[\"wt - wt\", \"mut - mut\", \"wt - mut\", \"mut - wt\"])\n",
    "ed.data(\"Contact\", \"Number_of_events\")"
   ]
  },
  {
   "cell_type": "code",
   "execution_count": null,
   "metadata": {},
   "outputs": [],
   "source": [
    "ed = ExtractDyadic(freq=\"5min\")\n",
    "# example: sshow only certain condition with smaler error bands\n",
    "ed.plot(\"Contact\", \"Number_of_events\", order=[\"wt - wt\", \"mut - mut\", ], ci=75)\n",
    "ed.data(\"Contact\", \"Number_of_events\")"
   ]
  },
  {
   "cell_type": "code",
   "execution_count": null,
   "metadata": {},
   "outputs": [],
   "source": []
  }
 ],
 "metadata": {
  "kernelspec": {
   "display_name": "Python 3",
   "language": "python",
   "name": "python3"
  },
  "language_info": {
   "codemirror_mode": {
    "name": "ipython",
    "version": 3
   },
   "file_extension": ".py",
   "mimetype": "text/x-python",
   "name": "python",
   "nbconvert_exporter": "python",
   "pygments_lexer": "ipython3",
   "version": "3.6.4"
  }
 },
 "nbformat": 4,
 "nbformat_minor": 4
}
